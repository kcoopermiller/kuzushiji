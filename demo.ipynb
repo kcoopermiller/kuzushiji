{
 "cells": [
  {
   "cell_type": "code",
   "execution_count": null,
   "metadata": {},
   "outputs": [],
   "source": [
    "import numpy as np\n",
    "import torch\n",
    "import torch.nn as nn\n",
    "from torch.utils.data import Dataset, DataLoader\n",
    "from torchvision import transforms\n",
    "import torchmetrics\n",
    "import lightning as L\n",
    "from mamba import MambaImgClassifier\n",
    "\n",
    "device = torch.device(\"cuda\" if torch.cuda.is_available() else \"cpu\")\n",
    "print(device)"
   ]
  },
  {
   "cell_type": "code",
   "execution_count": 2,
   "metadata": {},
   "outputs": [],
   "source": [
    "class KuzushijiMNISTDataset(Dataset):\n",
    "    def __init__(self, imgs_npz_file, labels_npz_file, transform=None):\n",
    "        imgs_data = np.load(imgs_npz_file)\n",
    "        labels_data = np.load(labels_npz_file)\n",
    "        self.images = imgs_data['arr_0']\n",
    "        self.labels = labels_data['arr_0']\n",
    "        self.transform = transform\n",
    "\n",
    "    def __len__(self):\n",
    "        return len(self.images)\n",
    "\n",
    "    def __getitem__(self, idx):\n",
    "        image = self.images[idx]\n",
    "        label = self.labels[idx]\n",
    "        if self.transform:\n",
    "            image = self.transform(image)\n",
    "        return image, label"
   ]
  },
  {
   "cell_type": "code",
   "execution_count": 12,
   "metadata": {},
   "outputs": [],
   "source": [
    "class ImgClassifierLightning(L.LightningModule):\n",
    "    def __init__(self, model, learning_rate=1e-3):\n",
    "        super().__init__()\n",
    "        self.model = model\n",
    "        self.learning_rate = learning_rate\n",
    "        self.accuracy = torchmetrics.Accuracy(task='multiclass', num_classes=10)\n",
    "\n",
    "    # Forward pass\n",
    "    def forward(self, x):\n",
    "        return self.model(x)\n",
    "\n",
    "    def training_step(self, batch, batch_idx):\n",
    "        x, y = batch\n",
    "        y_hat = self.forward(x)\n",
    "        loss = nn.functional.cross_entropy(y_hat, y)\n",
    "        self.log('train_loss', loss, on_step=True, on_epoch=True, prog_bar=True, logger=True)\n",
    "        return loss\n",
    "\n",
    "    def validation_step(self, batch, batch_idx):\n",
    "        x, y = batch\n",
    "        y_hat = self.forward(x)\n",
    "        loss = nn.functional.cross_entropy(y_hat, y)\n",
    "        acc = self.accuracy(y_hat, y)\n",
    "        self.log('val_loss', loss, prog_bar=True)\n",
    "        self.log('val_acc', acc, prog_bar=True)\n",
    "        return {'val_loss': loss, 'val_acc': acc}\n",
    "\n",
    "    def configure_optimizers(self):\n",
    "        optimizer = torch.optim.Adam(self.model.parameters(), lr=self.learning_rate)\n",
    "        return optimizer"
   ]
  },
  {
   "cell_type": "code",
   "execution_count": null,
   "metadata": {},
   "outputs": [],
   "source": [
    "transform = transforms.Compose([\n",
    "    transforms.ToTensor(),\n",
    "    # add more transforms if needed (channels first?)\n",
    "])\n",
    "train_dataset = KuzushijiMNISTDataset('dataset/npz/kmnist-train-imgs.npz', \n",
    "                                      'dataset/npz/kmnist-train-labels.npz', \n",
    "                                      transform=transform)\n",
    "val_dataset = KuzushijiMNISTDataset('dataset/npz/kmnist-test-imgs.npz', \n",
    "                                    'dataset/npz/kmnist-test-labels.npz', \n",
    "                                    transform=transform)\n",
    "\n",
    "# Instantiate the dataloaders\n",
    "train_loader = DataLoader(train_dataset, batch_size=32, shuffle=True)\n",
    "val_loader = DataLoader(val_dataset, batch_size=32)\n",
    "\n",
    "# Instantiate model\n",
    "patch_size = 4\n",
    "img_size = 28\n",
    "embed_dim = 256\n",
    "dropout = 0.1\n",
    "n_layers = 6\n",
    "n_channels = 1\n",
    "\n",
    "model = MambaImgClassifier(patch_size, img_size, n_channels, embed_dim, n_layers, dropout)\n",
    "\n",
    "# Wrap in Lightning module\n",
    "lightning_model = ImgClassifierLightning(model)\n",
    "\n",
    "# Trainer\n",
    "trainer = L.Trainer(max_epochs=5)\n",
    "trainer.fit(lightning_model, train_loader, val_loader)"
   ]
  }
 ],
 "metadata": {
  "kernelspec": {
   "display_name": "Python 3",
   "language": "python",
   "name": "python3"
  },
  "language_info": {
   "codemirror_mode": {
    "name": "ipython",
    "version": 3
   },
   "file_extension": ".py",
   "mimetype": "text/x-python",
   "name": "python",
   "nbconvert_exporter": "python",
   "pygments_lexer": "ipython3",
   "version": "3.10.12"
  }
 },
 "nbformat": 4,
 "nbformat_minor": 2
}
